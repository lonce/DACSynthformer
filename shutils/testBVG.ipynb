{
 "cells": [
  {
   "cell_type": "code",
   "execution_count": null,
   "id": "bf9515d1-61f8-4725-b55f-4d679b789979",
   "metadata": {},
   "outputs": [],
   "source": [
    "import numpy as np\n",
    "import torch\n",
    "\n",
    "import matplotlib.pyplot as plt\n",
    "\n",
    "import soundfile as sf\n",
    "import librosa\n",
    "import IPython.display as ipd\n",
    "\n",
    "import os\n",
    "import sys\n",
    "\n",
    "homedir=\"/home/lonce/working_local/DACSynthformer\"\n",
    "\n",
    "# Get the path of the subdirectory\n",
    "subdir_path = os.path.abspath(homedir+\"/BigVGAN\")  # Update with actual path\n",
    "# Add it to sys.path\n",
    "if subdir_path not in sys.path:\n",
    "    sys.path.append(subdir_path)\n",
    "import bigvgan\n",
    "from meldataset import get_mel_spectrogram"
   ]
  },
  {
   "cell_type": "code",
   "execution_count": null,
   "id": "cc53ce65-1215-4bef-a003-e9decdb99fba",
   "metadata": {},
   "outputs": [],
   "source": [
    "bvgmodel = bigvgan.BigVGAN.from_pretrained(homedir+'/BigVGAN/bigvgan_v2_44khz_128band_512x', use_cuda_kernel=False)\n",
    "bvgmodel = bvgmodel.eval()\n",
    "# Remove weight norm in the bvgmodel and set to eval mode\n",
    "bvgmodel.remove_weight_norm()\n",
    "\n",
    "if 1 : \n",
    "    print(f'bvgmodel Parameters\" : {bvgmodel.h}')"
   ]
  },
  {
   "cell_type": "code",
   "execution_count": null,
   "id": "88690ea3-dd01-48a6-8abf-bcf5faba14a9",
   "metadata": {},
   "outputs": [],
   "source": [
    "def wav2mel(wav_data): \n",
    "    \"\"\"\n",
    "    Converts a WAV signal to a mel spectrogram using BigVGAN.\n",
    "    \"\"\"\n",
    "    wav = torch.FloatTensor(wav_data).unsqueeze(0)  # Shape [1, T_time]\n",
    "    mel = get_mel_spectrogram(wav, bvgmodel.h)  # Shape [1, C_mel, T_frame]\n",
    "    return mel"
   ]
  },
  {
   "cell_type": "code",
   "execution_count": null,
   "id": "fae602e9-38b3-4f7c-bc0c-6e3608289cb1",
   "metadata": {},
   "outputs": [],
   "source": []
  },
  {
   "cell_type": "code",
   "execution_count": null,
   "id": "fa40ddb9-fe85-4e1a-bfcd-52cd45a98184",
   "metadata": {},
   "outputs": [],
   "source": [
    "destination_dir=\"deleteme\"\n",
    "wav_path=homedir+\"/testdata/Lala_data/lala_wav/04.fa.wav\"\n",
    "wav_data, sample_rate = librosa.load(wav_path, sr=bvgmodel.h.sampling_rate, mono=True)\n",
    "\n",
    "# Extract filename without extension\n",
    "filename = os.path.splitext(os.path.basename(wav_path))[0]\n",
    "mel_path = os.path.join(destination_dir, filename + \".npy\")"
   ]
  },
  {
   "cell_type": "code",
   "execution_count": null,
   "id": "457f4a0f-b269-412a-9727-e50d4255cd77",
   "metadata": {},
   "outputs": [],
   "source": [
    "bvg_mel_spec_encode = wav2mel(wav_data)\n",
    "print(f'wav2mel {wav_path}')"
   ]
  },
  {
   "cell_type": "code",
   "execution_count": null,
   "id": "ba4aeefd-3895-4a86-bf7c-7a2f61095a3c",
   "metadata": {},
   "outputs": [],
   "source": [
    "# plot the BigVGAN encoded spectrogram\n",
    "%matplotlib inline\n",
    "bvg_mel_spec = bvg_mel_spec_encode.detach().cpu().numpy()\n",
    "print(f'shape is : {bvg_mel_spec.shape}')\n",
    "if bvg_mel_spec.shape[0] == 1:\n",
    "    bvg_mel_spec=np.squeeze(bvg_mel_spec, axis=0) \n",
    "    \n",
    "plt.figure(figsize=(10, 4))\n",
    "librosa.display.specshow(bvg_mel_spec, sr=bvgmodel.h.sampling_rate, hop_length=bvgmodel.h.hop_size, x_axis=\"time\", y_axis=\"mel\")\n",
    "plt.colorbar(label=\"Amplitude (dB)\")\n",
    "plt.title(\"BigVGAN encoded Mel Spectrogram\")\n",
    "plt.xlabel(\"Time (s)\")\n",
    "plt.ylabel(\"Mel Frequency\")\n",
    "plt.show()"
   ]
  },
  {
   "cell_type": "code",
   "execution_count": null,
   "id": "4421479e-ee65-4273-90f4-b43e4bdac73a",
   "metadata": {},
   "outputs": [],
   "source": [
    "# Now get the BVG inferenced audio \n",
    "\n",
    "with torch.inference_mode():\n",
    "    wav_gen = bvgmodel(bvg_mel_spec_encode) # wav_gen is FloatTensor with shape [B(1), 1, T_time] and values in [-1, 1]\n",
    "wav_gen_float = wav_gen.squeeze(0).cpu() # wav_gen is FloatTensor with shape [1, T_time]\n",
    "adata = wav_gen_float.squeeze().numpy()\n",
    "\n",
    "plt.figure(figsize=(10, 4))\n",
    "librosa.display.waveshow(adata, sr=44100)\n",
    "plt.xlabel(\"Time (seconds)\")\n",
    "plt.ylabel(\"Amplitude\")\n",
    "plt.title(\"BVG mel->Waveform\")\n",
    "plt.show()\n",
    "\n",
    "ipd.Audio(adata, rate=44100) "
   ]
  },
  {
   "cell_type": "code",
   "execution_count": null,
   "id": "e5bdc267-817a-409e-bbd0-99521da59c36",
   "metadata": {},
   "outputs": [],
   "source": [
    "#now lets generate the spectrogramfrom the audio using Librosa\n",
    "\n",
    "plt.figure(figsize=(10, 4))\n",
    "mel_spec = librosa.feature.melspectrogram(y=adata,sr=bvgmodel.h.sampling_rate, n_mels=bvgmodel.h.num_mels)\n",
    "mel_spec_db = librosa.power_to_db(mel_spec, ref=np.max)\n",
    "librosa.display.specshow(mel_spec_db, sr=bvgmodel.h.sampling_rate, hop_length=bvgmodel.h.hop_size, x_axis=\"time\", y_axis=\"mel\")\n",
    "plt.colorbar(label=\"Amplitude (dB)\")\n",
    "plt.title(\"Librosa Mel Spectrogram fro bvg audio\")\n",
    "plt.xlabel(\"Time (s)\")\n",
    "plt.ylabel(\"Mel Frequency\")\n",
    "plt.show()\n"
   ]
  },
  {
   "cell_type": "code",
   "execution_count": null,
   "id": "6064e4c2-4080-407c-812b-109b3d86873d",
   "metadata": {},
   "outputs": [],
   "source": [
    "# Convert mel spectrogram back to linear STFT spectrogram\n",
    "#not the DB one!!!!\n",
    "mel_to_stft = librosa.feature.inverse.mel_to_stft(mel_spec, sr=bvgmodel.h.sampling_rate)\n",
    "\n",
    "# Use Griffin-Lim to reconstruct audio from STFT\n",
    "y_reconstructed = librosa.griffinlim(mel_to_stft, n_iter=64) #weirdly, the n_iter seems to have no effect\n",
    "\n",
    "# Listen to the output\n",
    "ipd.Audio(y_reconstructed, rate=bvgmodel.h.sampling_rate)"
   ]
  },
  {
   "cell_type": "code",
   "execution_count": null,
   "id": "7037f792-59bb-4ecb-b359-e73bb57d7719",
   "metadata": {},
   "outputs": [],
   "source": [
    "##  NONSENSE\n",
    "# CAN LIBROSA INVERT THE SPECTROGRAM ENCODED USING BIGVGAN?????????????????????????\n",
    "mel_to_stft = librosa.feature.inverse.mel_to_stft(librosa.db_to_power(bvg_mel_spec_encode.detach().cpu().numpy()), sr=bvgmodel.h.sampling_rate)\n",
    "\n",
    "# Use Griffin-Lim to reconstruct audio from STFT\n",
    "y_reconstructed = librosa.griffinlim(mel_to_stft, n_iter=64) #weirdly, the n_iter seems to have no effect\n",
    "\n",
    "# Listen to the output\n",
    "ipd.Audio(y_reconstructed, rate=bvgmodel.h.sampling_rate)\n"
   ]
  },
  {
   "cell_type": "code",
   "execution_count": null,
   "id": "ee22dbc0-6ec6-49d7-80b9-b026c5a7a8a8",
   "metadata": {},
   "outputs": [],
   "source": []
  }
 ],
 "metadata": {
  "kernelspec": {
   "display_name": "Python 3 (ipykernel)",
   "language": "python",
   "name": "python3"
  },
  "language_info": {
   "codemirror_mode": {
    "name": "ipython",
    "version": 3
   },
   "file_extension": ".py",
   "mimetype": "text/x-python",
   "name": "python",
   "nbconvert_exporter": "python",
   "pygments_lexer": "ipython3",
   "version": "3.10.0"
  }
 },
 "nbformat": 4,
 "nbformat_minor": 5
}
